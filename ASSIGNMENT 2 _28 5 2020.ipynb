{
 "cells": [
  {
   "cell_type": "markdown",
   "metadata": {},
   "source": [
    "CSE_221710302040-Tanmay Charita.N\n",
    "Assignment - 2\n"
   ]
  },
  {
   "cell_type": "code",
   "execution_count": 1,
   "metadata": {},
   "outputs": [
    {
     "name": "stdout",
     "output_type": "stream",
     "text": [
      "enter the string :A\n",
      "no of vowels: 0\n",
      "no of consonants: 0\n",
      "no of spl char: 1\n"
     ]
    }
   ],
   "source": [
    "# program 1\n",
    "vcount = 0\n",
    "ccount = 0\n",
    "scount = 0\n",
    "str = input(\"enter the string :\")  \n",
    "for i in range(0,len(str)):   \n",
    "    #Checks whether a character is a vowel  \n",
    "    if str[i] in ('a',\"e\",\"i\",\"o\",\"u\"):  \n",
    "        vcount = vcount + 1 \n",
    "    elif (str[i] >= 'a' and str[i] <= 'z'):  \n",
    "        ccount = ccount + 1  \n",
    "    else:\n",
    "        scount = scount + 1 \n",
    "print(\"no of vowels:\",vcount)  \n",
    "print(\"no of consonants:\",ccount)  \n",
    "print(\"no of spl char:\",scount)"
   ]
  },
  {
   "cell_type": "code",
   "execution_count": 2,
   "metadata": {},
   "outputs": [
    {
     "name": "stdout",
     "output_type": "stream",
     "text": [
      "Enter a string:b\n",
      "Pairs: 0\n"
     ]
    }
   ],
   "source": [
    "# program 2\n",
    "a=input('Enter a string:').lower()\n",
    "p=0\n",
    "c=0\n",
    "for i in a:\n",
    "    if i=='a' and c==0:\n",
    "        c=1\n",
    "    elif i=='a' and c==1:\n",
    "        c=0\n",
    "        p=p+1\n",
    "    else:\n",
    "        c=0\n",
    "print(\"Pairs:\",p)"
   ]
  },
  {
   "cell_type": "code",
   "execution_count": 4,
   "metadata": {},
   "outputs": [
    {
     "name": "stdout",
     "output_type": "stream",
     "text": [
      "Enter your string : (())\n",
      "Number of parentheses :  2\n"
     ]
    }
   ],
   "source": [
    "#program 3\n",
    "def check(str):\n",
    "    stack = []\n",
    "    sum = 0\n",
    "    open_list = [\"(\"]\n",
    "    for i in str:\n",
    "        if i in open_list:\n",
    "            stack.append(i)\n",
    "        else :\n",
    "            stack.pop()\n",
    "            sum += 1\n",
    "    print(\"Number of parentheses : \", sum)\n",
    "# Driver function.\n",
    "str = input(\"Enter your string : \")\n",
    "check(str)"
   ]
  },
  {
   "cell_type": "code",
   "execution_count": 5,
   "metadata": {},
   "outputs": [
    {
     "name": "stdout",
     "output_type": "stream",
     "text": [
      "1\n",
      "5\n",
      "5\n"
     ]
    }
   ],
   "source": [
    "#program 4\n",
    "def isPalindrome(n: int) -> bool: \n",
    "    rev = 0\n",
    "    i = n \n",
    "    while i > 0: \n",
    "        rev = rev * 10 + i % 10\n",
    "        i //= 10 \n",
    "    return (n == rev) \n",
    "\n",
    "def countPal(minn: int, maxx: int) -> None: \n",
    "    c=0\n",
    "    for i in range(minn, maxx + 1): \n",
    "        if isPalindrome(i): \n",
    "            c+=1 \n",
    "    print(c)\n",
    "x=int(input())\n",
    "y=int(input())\n",
    "countPal(x,y)"
   ]
  },
  {
   "cell_type": "code",
   "execution_count": 1,
   "metadata": {},
   "outputs": [
    {
     "name": "stdout",
     "output_type": "stream",
     "text": [
      "enter the stringorange\n",
      "puboif"
     ]
    }
   ],
   "source": [
    "#program 6\n",
    "s=input(\"enter the string\")\n",
    "s1=0\n",
    "vowel=['a','e','i','o','u']\n",
    "for i in s:\n",
    "    if i in vowel:\n",
    "        print(chr(ord(i)+1),end=\"\")\n",
    "    elif(ord(i)>65 and ord(i)<69)or(ord(i)>97 and ord(i)<101):\n",
    "        print(\"e\",end=\"\")\n",
    "    elif(ord(i)>69 and ord(i)<73)or(ord(i)>101 and ord(i)<105):\n",
    "        print(\"i\",end=\"\")\n",
    "    elif(ord(i)>73 and ord(i)<79)or(ord(i)>105 and ord(i)<111):\n",
    "        print(\"o\",end=\"\")\n",
    "    elif(ord(i)>79 and ord(i)<85)or(ord(i)>111 and ord(i)<117):\n",
    "        print(\"u\",end=\"\")\n",
    "    elif(ord(i)>85 and ord(i)<90)or(ord(i)>117 and ord(i)<122):\n",
    "        print(\"a\",end=\"\")"
   ]
  },
  {
   "cell_type": "code",
   "execution_count": 2,
   "metadata": {},
   "outputs": [
    {
     "name": "stdout",
     "output_type": "stream",
     "text": [
      "127\n",
      "848\n"
     ]
    }
   ],
   "source": [
    "#program 5\n",
    "n = int(input())\n",
    "while True :\n",
    "    if str(n) == str(n)[::-1]:\n",
    "        print(str(n)[::-1])\n",
    "        break\n",
    "    else:\n",
    "            n += int(str(n)[::-1])"
   ]
  },
  {
   "cell_type": "code",
   "execution_count": 3,
   "metadata": {},
   "outputs": [
    {
     "name": "stdout",
     "output_type": "stream",
     "text": [
      "enter a stringappli123cation456\n",
      "21\n"
     ]
    }
   ],
   "source": [
    "#program 7\n",
    "def sum_digits_string(str1):\n",
    "    sum_digit = 0\n",
    "    for x in str1:\n",
    "        if x.isdigit() == True:\n",
    "            z = int(x)\n",
    "            sum_digit = sum_digit + z\n",
    "\n",
    "    return sum_digit\n",
    "     \n",
    "print(sum_digits_string(input(\"enter a string\")))"
   ]
  },
  {
   "cell_type": "code",
   "execution_count": 4,
   "metadata": {},
   "outputs": [
    {
     "name": "stdout",
     "output_type": "stream",
     "text": [
      "enter a string0.85\n",
      "13\n"
     ]
    }
   ],
   "source": [
    "#program 7\n",
    "def sum_digits_string(str1):\n",
    "    sum_digit = 0\n",
    "    for x in str1:\n",
    "        if x.isdigit() == True:\n",
    "            z = int(x)\n",
    "            sum_digit = sum_digit + z\n",
    "\n",
    "    return sum_digit\n",
    "     \n",
    "print(sum_digits_string(input(\"enter a string\")))"
   ]
  },
  {
   "cell_type": "code",
   "execution_count": 5,
   "metadata": {},
   "outputs": [
    {
     "name": "stdout",
     "output_type": "stream",
     "text": [
      "fizzbuzz\n",
      "1\n",
      "2\n",
      "fizz\n",
      "4\n",
      "buzz\n",
      "fizz\n",
      "7\n",
      "8\n",
      "fizz\n",
      "buzz\n",
      "11\n",
      "fizz\n",
      "13\n",
      "14\n",
      "fizzbuzz\n",
      "16\n",
      "17\n",
      "fizz\n",
      "19\n",
      "buzz\n",
      "fizz\n",
      "22\n",
      "23\n",
      "fizz\n",
      "buzz\n",
      "26\n",
      "fizz\n",
      "28\n",
      "29\n",
      "fizzbuzz\n",
      "31\n",
      "32\n",
      "fizz\n",
      "34\n",
      "buzz\n",
      "fizz\n",
      "37\n",
      "38\n",
      "fizz\n",
      "buzz\n",
      "41\n",
      "fizz\n",
      "43\n",
      "44\n",
      "fizzbuzz\n",
      "46\n",
      "47\n",
      "fizz\n",
      "49\n",
      "buzz\n"
     ]
    }
   ],
   "source": [
    "#program 9\n",
    "for fizzbuzz in range(51):\n",
    "    if fizzbuzz % 3 == 0 and fizzbuzz % 5 == 0:\n",
    "        print(\"fizzbuzz\")\n",
    "        continue\n",
    "    elif fizzbuzz % 3 == 0:\n",
    "        print(\"fizz\")\n",
    "        continue\n",
    "    elif fizzbuzz % 5 == 0:\n",
    "        print(\"buzz\")\n",
    "        continue\n",
    "    print(fizzbuzz)\n"
   ]
  },
  {
   "cell_type": "code",
   "execution_count": null,
   "metadata": {},
   "outputs": [],
   "source": []
  }
 ],
 "metadata": {
  "kernelspec": {
   "display_name": "Python 3",
   "language": "python",
   "name": "python3"
  },
  "language_info": {
   "codemirror_mode": {
    "name": "ipython",
    "version": 3
   },
   "file_extension": ".py",
   "mimetype": "text/x-python",
   "name": "python",
   "nbconvert_exporter": "python",
   "pygments_lexer": "ipython3",
   "version": "3.7.3"
  }
 },
 "nbformat": 4,
 "nbformat_minor": 2
}
