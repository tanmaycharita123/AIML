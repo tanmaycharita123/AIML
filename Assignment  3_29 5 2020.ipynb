{
 "cells": [
  {
   "cell_type": "markdown",
   "metadata": {},
   "source": [
    "CSE-221717302040-Tanmay Charita.N\n",
    "ASSIGNMENT - 3"
   ]
  },
  {
   "cell_type": "code",
   "execution_count": 1,
   "metadata": {},
   "outputs": [
    {
     "name": "stdout",
     "output_type": "stream",
     "text": [
      "4\n"
     ]
    },
    {
     "data": {
      "text/plain": [
       "24"
      ]
     },
     "execution_count": 1,
     "metadata": {},
     "output_type": "execute_result"
    }
   ],
   "source": [
    "#PROGRAM1\n",
    "def fact(n):\n",
    "    if(n<=1):\n",
    "        return 1\n",
    "    else:\n",
    "        return n*fact(n-1)\n",
    "x=int(input())\n",
    "fact(x)"
   ]
  },
  {
   "cell_type": "code",
   "execution_count": 2,
   "metadata": {},
   "outputs": [
    {
     "name": "stdout",
     "output_type": "stream",
     "text": [
      "21\n"
     ]
    }
   ],
   "source": [
    "#PROGRAM 3\n",
    "x=[1,2,3,4,5,6]\n",
    "s=0\n",
    "for i in range(0,len(x)):\n",
    "    s=s+x[i]\n",
    "print(s)"
   ]
  },
  {
   "cell_type": "code",
   "execution_count": 3,
   "metadata": {},
   "outputs": [
    {
     "name": "stdout",
     "output_type": "stream",
     "text": [
      "enter no. of elements in list:5\n",
      "1\n",
      "2\n",
      "3\n",
      "4\n",
      "5\n",
      "the list is: [1, 2, 3, 4, 5]\n",
      "the even numbers in list are:\n",
      "2\n",
      "4\n"
     ]
    }
   ],
   "source": [
    "#PROGRAM 4\n",
    "x=[]\n",
    "n=int(input(\"enter no. of elements in list:\"))\n",
    "for i in range(0,n):\n",
    "    element=int(input())\n",
    "    x.append(element)\n",
    "print(\"the list is:\",x)\n",
    "print(\"the even numbers in list are:\")\n",
    "for i in range(0,len(x)):\n",
    "    if(x[i]%2==0):\n",
    "        print(x[i])"
   ]
  },
  {
   "cell_type": "code",
   "execution_count": 4,
   "metadata": {},
   "outputs": [
    {
     "name": "stdout",
     "output_type": "stream",
     "text": [
      "252\n",
      "palindrome\n"
     ]
    }
   ],
   "source": [
    "#PROGRAM 6\n",
    "def palindrome(s): \n",
    "    t = s[::-1] \n",
    "    if(t==s):\n",
    "        print(\"palindrome\")\n",
    "    else:\n",
    "        print(\"not a palindrome\")\n",
    "x=input()\n",
    "palindrome(x)"
   ]
  },
  {
   "cell_type": "code",
   "execution_count": 5,
   "metadata": {},
   "outputs": [
    {
     "name": "stdout",
     "output_type": "stream",
     "text": [
      "Number of even numbers : 4\n",
      "Number of odd numbers : 5\n"
     ]
    }
   ],
   "source": [
    "#PROGRAM 7\n",
    "list1 = (1, 2, 3, 4, 5, 6, 7, 8, 9) # Declaring the tuple\n",
    "count_odd = 0\n",
    "count_even = 0\n",
    "for x in list1 :\n",
    "        if not x % 2:\n",
    "             count_even+=1\n",
    "        else:\n",
    "             count_odd+=1\n",
    "print(\"Number of even numbers :\",count_even)\n",
    "print(\"Number of odd numbers :\",count_odd)"
   ]
  },
  {
   "cell_type": "code",
   "execution_count": 6,
   "metadata": {},
   "outputs": [
    {
     "name": "stdout",
     "output_type": "stream",
     "text": [
      "0\n",
      "1\n",
      "2\n",
      "4\n",
      "5\n"
     ]
    }
   ],
   "source": [
    "#PROGRAM 8\n",
    "for i in range(0,7):\n",
    "    if(i==3 or i==6):\n",
    "        continue\n",
    "    else:\n",
    "        print(i)"
   ]
  },
  {
   "cell_type": "code",
   "execution_count": 7,
   "metadata": {},
   "outputs": [
    {
     "name": "stdout",
     "output_type": "stream",
     "text": [
      "5\n",
      "it is prime\n"
     ]
    }
   ],
   "source": [
    "#PROGRAM 9\n",
    "def prime(n):\n",
    "    c=0\n",
    "    for i in range(1,n+1):\n",
    "        if(n%i==0):\n",
    "            c+=1\n",
    "    if(c==2):\n",
    "        print(\"it is prime\")\n",
    "    else:\n",
    "        print(\"it is not a prime\")\n",
    "x=int(input())\n",
    "prime(x)"
   ]
  },
  {
   "cell_type": "code",
   "execution_count": 11,
   "metadata": {},
   "outputs": [
    {
     "name": "stdout",
     "output_type": "stream",
     "text": [
      "12\n",
      "Adam Number\n"
     ]
    }
   ],
   "source": [
    "#PROGRAM 10\n",
    "def isAdam(num):\n",
    "    n = num\n",
    "    rev = 0\n",
    "    while n != 0:\n",
    "        rev = rev * 10 + n % 10\n",
    "        n = n // 10\n",
    "    sn = num ** 2\n",
    "    sr = rev ** 2\n",
    "    n = sr\n",
    "    rev = 0\n",
    "    while n != 0:\n",
    "        rev = rev * 10 + n % 10\n",
    "        n = n // 10\n",
    "    return sn == rev\n",
    "\n",
    "num = int(input())\n",
    "if isAdam(num):\n",
    "    print(\"Adam Number\")\n",
    "else:\n",
    "    print(\"not an Adam Number\")"
   ]
  },
  {
   "cell_type": "code",
   "execution_count": 12,
   "metadata": {},
   "outputs": [
    {
     "name": "stdout",
     "output_type": "stream",
     "text": [
      "enter no. of elements in list:4\n",
      "3\n",
      "4\n",
      "5\n",
      "6\n",
      "the list is: [3, 4, 5, 6]\n",
      "smallest number in list is  3 at index  0\n"
     ]
    }
   ],
   "source": [
    "#PROGRAM 5\n",
    "x=[]\n",
    "n=int(input(\"enter no. of elements in list:\"))\n",
    "for i in range(0,n):\n",
    "    element=int(input())\n",
    "    x.append(element)\n",
    "print(\"the list is:\",x)\n",
    "m=0\n",
    "t=x[0]\n",
    "for i in range(0,len(x)):\n",
    "    if(x[i]<t):\n",
    "        t=x[i]\n",
    "        m=i\n",
    "print(\"smallest number in list is \",t,\"at index \",m)\n"
   ]
  },
  {
   "cell_type": "code",
   "execution_count": 21,
   "metadata": {},
   "outputs": [
    {
     "name": "stdout",
     "output_type": "stream",
     "text": [
      "3\n",
      "0\n",
      "1\n",
      "1\n"
     ]
    }
   ],
   "source": [
    "#PROGRAM 2\n",
    "def fibo(n):\n",
    "    if n <= 1:\n",
    "        return n\n",
    "    else:\n",
    "        return(fibo(n-1) + fibo(n-2))\n",
    "x=int(input())\n",
    "if x<= 0:\n",
    "    print(\"Plese enter a positive integer\")\n",
    "else:\n",
    "    for i in range(x):\n",
    "        print(fibo(i))"
   ]
  },
  {
   "cell_type": "code",
   "execution_count": null,
   "metadata": {},
   "outputs": [],
   "source": []
  }
 ],
 "metadata": {
  "kernelspec": {
   "display_name": "Python 3",
   "language": "python",
   "name": "python3"
  },
  "language_info": {
   "codemirror_mode": {
    "name": "ipython",
    "version": 3
   },
   "file_extension": ".py",
   "mimetype": "text/x-python",
   "name": "python",
   "nbconvert_exporter": "python",
   "pygments_lexer": "ipython3",
   "version": "3.7.3"
  }
 },
 "nbformat": 4,
 "nbformat_minor": 2
}
